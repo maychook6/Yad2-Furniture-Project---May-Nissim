{
 "cells": [
  {
   "cell_type": "markdown",
   "id": "b9db45f8",
   "metadata": {},
   "source": [
    "## Yad2 Second hand furniture - can we predict how long it'll take for an item to sell?"
   ]
  },
  {
   "cell_type": "markdown",
   "id": "c6207fb6",
   "metadata": {},
   "source": [
    "For our project we wanted to figure out if we can predict how fast a furniture item will sell on Yad-2 within the span of 5 days of data collection, based on type of furniture, price, condition, amount of pictures uploaded to the ad (if any), and if a decription of the item exists."
   ]
  },
  {
   "cell_type": "markdown",
   "id": "0168f4da",
   "metadata": {},
   "source": [
    "We start off with importing libraries relevant for our work, then we defined two functions - one to load our dataframe called 'load_csv' (no surprise there), and one called 'find_mean' to help us out with getting additional information from our existing dataframe."
   ]
  },
  {
   "cell_type": "code",
   "execution_count": 50,
   "id": "2c1355c5",
   "metadata": {},
   "outputs": [],
   "source": [
    "%matplotlib inline\n",
    "import pandas as pd\n",
    "import numpy as np\n",
    "import seaborn as sns\n",
    "from scipy.stats import chi2_contingency\n",
    "from sklearn import linear_model, metrics\n",
    "from sklearn.linear_model import LinearRegression, LogisticRegression\n",
    "from sklearn.model_selection import train_test_split\n",
    "from sklearn.metrics import r2_score\n",
    "from sklearn.preprocessing import StandardScaler, MinMaxScaler\n",
    "from mpl_toolkits.mplot3d import Axes3D\n",
    "import matplotlib.pyplot as plt\n",
    "\n",
    "def load_csv(csv):\n",
    "    df = pd.read_csv(csv, index_col=[0])\n",
    "    return df\n",
    "\n",
    "def find_mean(main_df, col1_values, col1, col2):\n",
    "    col_val_mean_list = []\n",
    "    col_mean_name = col2 + str(' mean') + ' per ' + col1\n",
    "    total = main_df[col1].value_counts()\n",
    "    for item in col1_values:\n",
    "        col_val_index = []\n",
    "        col_val_total = 0\n",
    "        col_val_mean = 0\n",
    "        for index, row in main_df.iterrows():\n",
    "            if main_df.at[index, col1] == item:\n",
    "                col_val_index.append(index)\n",
    "                col_val_total += main_df.at[index, col2]\n",
    "        col_val_mean = int(col_val_total / total[item])\n",
    "        col_val_mean_list.append(col_val_mean)\n",
    "\n",
    "        for df_index in col_val_index:\n",
    "            main_df.at[df_index ,col_mean_name] = col_val_mean\n",
    "\n",
    "    mean_df = pd.DataFrame({col1: col1_values,  col_mean_name: col_val_mean_list})\n",
    "    return main_df, mean_df"
   ]
  },
  {
   "cell_type": "markdown",
   "id": "0dbf7b9a",
   "metadata": {},
   "source": [
    "The process begins from loading our dataframe after 6 days of data collection using our crawler (that is in it's own jupyter notebook) - day #1 was collecting 800 ads worth of data, and day #2-#6 was for checking if an ad was sold or not."
   ]
  },
  {
   "cell_type": "code",
   "execution_count": 2,
   "id": "bdfeac57",
   "metadata": {},
   "outputs": [],
   "source": [
    "df = load_csv(\"/Users/mayvakrat/Desktop/School Shit/Year 2/Semester B/Introduction To Data Science/Final Project/DF's/full df.csv\")\n"
   ]
  },
  {
   "cell_type": "markdown",
   "id": "ff43f7a8",
   "metadata": {},
   "source": [
    "After collecting the data, we narrowed down our records and removed furniture types that had only a 1 digit count in our dataframe, since it's too small of a number to analyze and get any real results."
   ]
  },
  {
   "cell_type": "code",
   "execution_count": 3,
   "id": "eca97a9c",
   "metadata": {},
   "outputs": [
    {
     "data": {
      "text/plain": [
       "מיטות                   97\n",
       "ספות                    96\n",
       "פינת אוכל               86\n",
       "סלון                    57\n",
       "שולחנות                 51\n",
       "מזנון / ויטרינה         50\n",
       "ענתיקות                 40\n",
       "ריהוט לחדרי ילדים       36\n",
       "ארונות                  36\n",
       "חדרי שינה               25\n",
       "שידות                   24\n",
       "שטיחים                  23\n",
       "דלתות                   21\n",
       "כסאות                   21\n",
       "מטבח                    20\n",
       "כורסאות                 17\n",
       "תכולת דירה              16\n",
       "ריהוט משרדי             14\n",
       "מדפים                   13\n",
       "מזרנים                  12\n",
       "שולחן מחשב              10\n",
       "כורסאות טלויזיה          8\n",
       "ספריה                    7\n",
       "מראה                     6\n",
       "שולחן טלוויזיה           3\n",
       "כורסאות ומושבי עיסוי     2\n",
       "כוורת                    2\n",
       "מעמד לדיסקים             2\n",
       "אחר                      1\n",
       "בר                       1\n",
       "פוף                      1\n",
       "שעון קיר                 1\n",
       "מוטות תלייה              1\n",
       "Name: Type, dtype: int64"
      ]
     },
     "execution_count": 3,
     "metadata": {},
     "output_type": "execute_result"
    }
   ],
   "source": [
    "df['Type'].value_counts()"
   ]
  },
  {
   "cell_type": "code",
   "execution_count": 4,
   "id": "12c5f7b2",
   "metadata": {},
   "outputs": [
    {
     "name": "stdout",
     "output_type": "stream",
     "text": [
      "דלתות\n",
      "ריהוט לחדרי ילדים\n",
      "מזנון / ויטרינה\n",
      "מיטות\n",
      "ספות\n",
      "כסאות\n",
      "סלון\n",
      "מדפים\n",
      "פינת אוכל\n",
      "חדרי שינה\n",
      "ארונות\n",
      "כורסאות\n",
      "שולחנות\n",
      "שטיחים\n",
      "מטבח\n",
      "שולחן מחשב\n",
      "ענתיקות\n",
      "ריהוט משרדי\n",
      "שידות\n",
      "מזרנים\n"
     ]
    }
   ],
   "source": [
    "df_clean = df.copy()\n",
    "\n",
    "list_to_drop = ['מוטות תלייה', 'שעון קיר', 'פוף', 'בר', 'אחר', 'מעמד לדיסקים', 'כוורת', 'כורסאות ומושבי עיסוי', 'שולחן טלוויזיה','מראה','ספריה','כורסאות טלויזיה','תכולת דירה']\n",
    "for item in list_to_drop:\n",
    "    df_clean.drop(df_clean.index[df_clean['Type'] == item], inplace=True)\n",
    "\n",
    "for item in df_clean['Type'].unique():\n",
    "    print(item)\n"
   ]
  },
  {
   "cell_type": "markdown",
   "id": "1c684020",
   "metadata": {},
   "source": [
    "In addition, for easier access and cohesiveness, we changed our 'Type' column from hebrew to english."
   ]
  },
  {
   "cell_type": "code",
   "execution_count": 5,
   "id": "365f0b5b",
   "metadata": {},
   "outputs": [],
   "source": [
    "df_clean['Type'] = df_clean['Type'].replace({'מיטות': 'bed'}, regex=True)\n",
    "df_clean['Type'] = df_clean['Type'].replace({'ספות': 'couch'}, regex=True)\n",
    "df_clean['Type'] = df_clean['Type'].replace({'פינת אוכל': 'dining set'}, regex=True)\n",
    "df_clean['Type'] = df_clean['Type'].replace({'סלון': 'living room set'}, regex=True)\n",
    "df_clean['Type'] = df_clean['Type'].replace({'שולחנות': 'table'}, regex=True)\n",
    "df_clean['Type'] = df_clean['Type'].replace({'מזנון / ויטרינה': 'cupboard'}, regex=True)\n",
    "df_clean['Type'] = df_clean['Type'].replace({'ענתיקות': 'antiques'}, regex=True)\n",
    "df_clean['Type'] = df_clean['Type'].replace({'ארונות': 'closet'}, regex=True)\n",
    "df_clean['Type'] = df_clean['Type'].replace({'ריהוט לחדרי ילדים': 'child bedroom'}, regex=True)\n",
    "df_clean['Type'] = df_clean['Type'].replace({'חדרי שינה': 'bedroom'}, regex=True)\n",
    "df_clean['Type'] = df_clean['Type'].replace({'שידות': 'dresser'}, regex=True)\n",
    "df_clean['Type'] = df_clean['Type'].replace({'שטיחים': 'carpet'}, regex=True)\n",
    "df_clean['Type'] = df_clean['Type'].replace({'דלתות': 'door'}, regex=True)\n",
    "df_clean['Type'] = df_clean['Type'].replace({'כסאות': 'chair'}, regex=True)\n",
    "df_clean['Type'] = df_clean['Type'].replace({'מטבח': 'kitchen'}, regex=True)\n",
    "df_clean['Type'] = df_clean['Type'].replace({'כורסאות': 'lounge chair'}, regex=True)\n",
    "df_clean['Type'] = df_clean['Type'].replace({'ריהוט משרדי': 'office'}, regex=True)\n",
    "df_clean['Type'] = df_clean['Type'].replace({'מדפים': 'shelf'}, regex=True)\n",
    "df_clean['Type'] = df_clean['Type'].replace({'מזרנים': 'mattress'}, regex=True)\n",
    "df_clean['Type'] = df_clean['Type'].replace({'שולחן מחשב': 'desk'}, regex=True)"
   ]
  },
  {
   "cell_type": "code",
   "execution_count": 6,
   "id": "a0072111",
   "metadata": {},
   "outputs": [
    {
     "name": "stdout",
     "output_type": "stream",
     "text": [
      "door\n",
      "child bedroom\n",
      "cupboard\n",
      "bed\n",
      "couch\n",
      "chair\n",
      "living room set\n",
      "shelf\n",
      "dining set\n",
      "bedroom\n",
      "closet\n",
      "lounge chair\n",
      "table\n",
      "carpet\n",
      "kitchen\n",
      "desk\n",
      "antiques\n",
      "office\n",
      "dresser\n",
      "mattress\n"
     ]
    }
   ],
   "source": [
    "for item in df_clean['Type'].unique():\n",
    "    print(item)"
   ]
  },
  {
   "cell_type": "markdown",
   "id": "cc531740",
   "metadata": {},
   "source": [
    "Also changed the 'Condition' column from hebrew to english:"
   ]
  },
  {
   "cell_type": "code",
   "execution_count": 7,
   "id": "f9b54e47",
   "metadata": {},
   "outputs": [
    {
     "name": "stdout",
     "output_type": "stream",
     "text": [
      "חדש באריזה\n",
      "כמו חדש\n",
      "משומש\n",
      "לא רלוונטי\n",
      "דרוש תיקון/שיפוץ\n"
     ]
    }
   ],
   "source": [
    "for item in df_clean['Condition'].unique():\n",
    "    print(item)"
   ]
  },
  {
   "cell_type": "code",
   "execution_count": 8,
   "id": "5d3cf393",
   "metadata": {},
   "outputs": [],
   "source": [
    "df_clean['Condition'] = df_clean['Condition'].replace({'חדש באריזה': 'new'}, regex=True)\n",
    "df_clean['Condition'] = df_clean['Condition'].replace({'כמו חדש': 'used like new'}, regex=True)\n",
    "df_clean['Condition'] = df_clean['Condition'].replace({'משומש': 'used'}, regex=True)\n",
    "df_clean['Condition'] = df_clean['Condition'].replace({'לא רלוונטי': 'irrelevant'}, regex=True)\n",
    "df_clean['Condition'] = df_clean['Condition'].replace({'דרוש תיקון/שיפוץ': 'in need '}, regex=True)"
   ]
  },
  {
   "cell_type": "code",
   "execution_count": 9,
   "id": "c0d52ff7",
   "metadata": {},
   "outputs": [
    {
     "name": "stdout",
     "output_type": "stream",
     "text": [
      "new\n",
      "used like new\n",
      "used\n",
      "irrelevant\n",
      "in need \n"
     ]
    }
   ],
   "source": [
    "for item in df_clean['Condition'].unique():\n",
    "    print(item)"
   ]
  },
  {
   "cell_type": "markdown",
   "id": "f5e92615",
   "metadata": {},
   "source": [
    "Now we calculate how many days it took for each item to sell:"
   ]
  },
  {
   "cell_type": "code",
   "execution_count": 10,
   "id": "befa905a",
   "metadata": {},
   "outputs": [],
   "source": [
    "days = ['Is Sold Day #1', 'Is Sold Day #2', 'Is Sold Day #3', 'Is Sold Day #4', 'Is Sold Day #5']\n",
    "days_until_sold = []\n",
    "for index, row in df_clean.iterrows():\n",
    "    day_sold = 1\n",
    "    for day in days:\n",
    "        if df_clean.at[index, day] == 0:\n",
    "            day_sold +=1\n",
    "    if day_sold == 6:\n",
    "        days_until_sold.append(-1)\n",
    "    else:\n",
    "        days_until_sold.append(day_sold)\n",
    "\n",
    "df_clean['Days until sold'] = days_until_sold "
   ]
  },
  {
   "cell_type": "markdown",
   "id": "ea4981d1",
   "metadata": {},
   "source": [
    "For our final dataframe, we will refer to sold units only, therefore we will drop any rows of items that were not sold."
   ]
  },
  {
   "cell_type": "code",
   "execution_count": 11,
   "id": "73dc8507",
   "metadata": {},
   "outputs": [],
   "source": [
    "df_clean.drop(df_clean[(df_clean['Days until sold'] == -1)].index, inplace=True)"
   ]
  },
  {
   "cell_type": "markdown",
   "id": "ab00e3b7",
   "metadata": {},
   "source": [
    "We also need to clean our dataframe from irrelevant columns:"
   ]
  },
  {
   "cell_type": "code",
   "execution_count": 12,
   "id": "0e0b2f47",
   "metadata": {},
   "outputs": [],
   "source": [
    "df_clean.drop(['Link', 'Upload Date', 'Is Sold Day #1', 'Is Sold Day #2', 'Is Sold Day #3', 'Is Sold Day #4','Is Sold Day #5'], axis=1, inplace=True)"
   ]
  },
  {
   "cell_type": "markdown",
   "id": "a88dc070",
   "metadata": {},
   "source": [
    "In addition - we must change the price column from a string with a currency symbol to an int containing the price only, and removing rows of items which state no price:"
   ]
  },
  {
   "cell_type": "code",
   "execution_count": 13,
   "id": "7a13d5b8",
   "metadata": {},
   "outputs": [],
   "source": [
    "df_clean.drop(df_clean.index[df_clean['Price'] == 'לא צוין מחיר'], inplace=True)"
   ]
  },
  {
   "cell_type": "code",
   "execution_count": 14,
   "id": "505a951d",
   "metadata": {},
   "outputs": [],
   "source": [
    "df_clean['Price'] = df_clean['Price'].str.strip('₪')\n",
    "df_clean['Price'] = df_clean['Price'].str.strip(' ')\n",
    "df_clean['Price'] = df_clean['Price'].str.replace(',', '')\n",
    "df_clean['Price'] = df_clean['Price'].astype(int)"
   ]
  },
  {
   "cell_type": "markdown",
   "id": "aa5c698e",
   "metadata": {},
   "source": [
    "Next, let's add some columns to our dataframe to help us see if we can our research question:"
   ]
  },
  {
   "cell_type": "code",
   "execution_count": 15,
   "id": "27a15705",
   "metadata": {},
   "outputs": [],
   "source": [
    "df_clean, days_mean_type = find_mean(df_clean, sorted(df_clean['Type'].unique()), 'Type', 'Days until sold')\n",
    "df_clean, days_mean_pic = find_mean(df_clean, sorted(df_clean['Picture count'].unique()), 'Picture count', 'Days until sold')\n",
    "df_clean, days_mean_condition = find_mean(df_clean, sorted(df_clean['Condition'].unique()), 'Condition', 'Days until sold')\n",
    "df_clean, days_mean_price = find_mean(df_clean, sorted(df_clean['Price'].unique()), 'Price', 'Days until sold')"
   ]
  },
  {
   "cell_type": "code",
   "execution_count": 16,
   "id": "0368b01f",
   "metadata": {},
   "outputs": [
    {
     "data": {
      "text/html": [
       "<div>\n",
       "<style scoped>\n",
       "    .dataframe tbody tr th:only-of-type {\n",
       "        vertical-align: middle;\n",
       "    }\n",
       "\n",
       "    .dataframe tbody tr th {\n",
       "        vertical-align: top;\n",
       "    }\n",
       "\n",
       "    .dataframe thead th {\n",
       "        text-align: right;\n",
       "    }\n",
       "</style>\n",
       "<table border=\"1\" class=\"dataframe\">\n",
       "  <thead>\n",
       "    <tr style=\"text-align: right;\">\n",
       "      <th></th>\n",
       "      <th>Type</th>\n",
       "      <th>Price</th>\n",
       "      <th>Condition</th>\n",
       "      <th>Is description</th>\n",
       "      <th>Picture count</th>\n",
       "      <th>Days until sold</th>\n",
       "      <th>Days until sold mean per Type</th>\n",
       "      <th>Days until sold mean per Picture count</th>\n",
       "      <th>Days until sold mean per Condition</th>\n",
       "      <th>Days until sold mean per Price</th>\n",
       "    </tr>\n",
       "  </thead>\n",
       "  <tbody>\n",
       "    <tr>\n",
       "      <th>0</th>\n",
       "      <td>door</td>\n",
       "      <td>3000</td>\n",
       "      <td>new</td>\n",
       "      <td>yes</td>\n",
       "      <td>4</td>\n",
       "      <td>5</td>\n",
       "      <td>3.0</td>\n",
       "      <td>2.0</td>\n",
       "      <td>3.0</td>\n",
       "      <td>3.0</td>\n",
       "    </tr>\n",
       "    <tr>\n",
       "      <th>13</th>\n",
       "      <td>couch</td>\n",
       "      <td>1100</td>\n",
       "      <td>used like new</td>\n",
       "      <td>yes</td>\n",
       "      <td>8</td>\n",
       "      <td>4</td>\n",
       "      <td>2.0</td>\n",
       "      <td>3.0</td>\n",
       "      <td>2.0</td>\n",
       "      <td>4.0</td>\n",
       "    </tr>\n",
       "    <tr>\n",
       "      <th>23</th>\n",
       "      <td>child bedroom</td>\n",
       "      <td>750</td>\n",
       "      <td>used</td>\n",
       "      <td>yes</td>\n",
       "      <td>9</td>\n",
       "      <td>1</td>\n",
       "      <td>3.0</td>\n",
       "      <td>1.0</td>\n",
       "      <td>2.0</td>\n",
       "      <td>3.0</td>\n",
       "    </tr>\n",
       "    <tr>\n",
       "      <th>25</th>\n",
       "      <td>bed</td>\n",
       "      <td>400</td>\n",
       "      <td>used</td>\n",
       "      <td>yes</td>\n",
       "      <td>4</td>\n",
       "      <td>1</td>\n",
       "      <td>2.0</td>\n",
       "      <td>2.0</td>\n",
       "      <td>2.0</td>\n",
       "      <td>1.0</td>\n",
       "    </tr>\n",
       "    <tr>\n",
       "      <th>29</th>\n",
       "      <td>dining set</td>\n",
       "      <td>4000</td>\n",
       "      <td>used like new</td>\n",
       "      <td>yes</td>\n",
       "      <td>10</td>\n",
       "      <td>1</td>\n",
       "      <td>2.0</td>\n",
       "      <td>2.0</td>\n",
       "      <td>2.0</td>\n",
       "      <td>3.0</td>\n",
       "    </tr>\n",
       "  </tbody>\n",
       "</table>\n",
       "</div>"
      ],
      "text/plain": [
       "             Type  Price      Condition Is description  Picture count  \\\n",
       "0            door   3000            new            yes              4   \n",
       "13          couch   1100  used like new            yes              8   \n",
       "23  child bedroom    750           used            yes              9   \n",
       "25            bed    400           used            yes              4   \n",
       "29     dining set   4000  used like new            yes             10   \n",
       "\n",
       "    Days until sold  Days until sold mean per Type  \\\n",
       "0                 5                            3.0   \n",
       "13                4                            2.0   \n",
       "23                1                            3.0   \n",
       "25                1                            2.0   \n",
       "29                1                            2.0   \n",
       "\n",
       "    Days until sold mean per Picture count  \\\n",
       "0                                      2.0   \n",
       "13                                     3.0   \n",
       "23                                     1.0   \n",
       "25                                     2.0   \n",
       "29                                     2.0   \n",
       "\n",
       "    Days until sold mean per Condition  Days until sold mean per Price  \n",
       "0                                  3.0                             3.0  \n",
       "13                                 2.0                             4.0  \n",
       "23                                 2.0                             3.0  \n",
       "25                                 2.0                             1.0  \n",
       "29                                 2.0                             3.0  "
      ]
     },
     "execution_count": 16,
     "metadata": {},
     "output_type": "execute_result"
    }
   ],
   "source": [
    "df_clean.head()"
   ]
  },
  {
   "cell_type": "markdown",
   "id": "4725f865",
   "metadata": {},
   "source": [
    "#### We used bar plots for to visualize a few things:<br>\n",
    "1.The average amount of days until an item sold per furniture type.<br>\n",
    "2.The average amount of days until an item sold in correlation to the amount a pictures that were uploaded on the item's ad.<br>\n",
    "3.The average amount of days until an item sold in correlation to the item's condition.<br>"
   ]
  },
  {
   "cell_type": "markdown",
   "id": "3b29047c",
   "metadata": {},
   "source": [
    "#### Bar Plot #1:"
   ]
  },
  {
   "cell_type": "code",
   "execution_count": 17,
   "id": "8f5a2c24",
   "metadata": {},
   "outputs": [],
   "source": [
    "sorted_type = days_mean_type.copy()\n",
    "sorted_type = sorted_type.sort_values(by=['Days until sold mean per Type'])"
   ]
  },
  {
   "cell_type": "code",
   "execution_count": 18,
   "id": "56e316a8",
   "metadata": {},
   "outputs": [
    {
     "data": {
      "image/png": "[encoded data removed]",
      "text/plain": [
       "<Figure size 1800x720 with 1 Axes>"
      ]
     },
     "metadata": {
      "needs_background": "light"
     },
     "output_type": "display_data"
    }
   ],
   "source": [
    "bar_num_1 = sorted_type.plot(kind='bar', x='Type', y='Days until sold mean per Type', figsize=(25,10), fontsize=15)\n",
    "bar_num_1.set_xlabel('Furniture Type',fontdict={'fontsize':18})\n",
    "bar_num_1;"
   ]
  },
  {
   "cell_type": "markdown",
   "id": "c021b221",
   "metadata": {},
   "source": [
    "Not much we can gather from our bar plot - related catagories are all over the place. Like storage furniture - closets are faster to sell whereas shlefs are not as fast. Desks sells pretty quick, but the office catagory - which might include desks within it, does not.\n",
    "But what we can see is that a single piece of furniture sells quicker than sets related to that piece - i.e., bed vs. bedrood, couch vs. living room set."
   ]
  },
  {
   "cell_type": "markdown",
   "id": "bb8130c7",
   "metadata": {},
   "source": [
    "#### Bar Plot #2:"
   ]
  },
  {
   "cell_type": "code",
   "execution_count": 19,
   "id": "282f89e6",
   "metadata": {},
   "outputs": [],
   "source": [
    "sorted_pic = days_mean_pic.copy()\n",
    "sorted_pic = sorted_pic.sort_values(by=['Picture count'])"
   ]
  },
  {
   "cell_type": "code",
   "execution_count": 20,
   "id": "6110c041",
   "metadata": {},
   "outputs": [
    {
     "data": {
      "image/png": "[encoded data removed]",
      "text/plain": [
       "<Figure size 1800x720 with 1 Axes>"
      ]
     },
     "metadata": {
      "needs_background": "light"
     },
     "output_type": "display_data"
    }
   ],
   "source": [
    "bar_num_2 = sorted_pic.plot(kind='bar', x='Picture count', y='Days until sold mean per Picture count', figsize=(25,10), fontsize=15)\n",
    "bar_num_2.set_xlabel('Picture count',fontdict={'fontsize':18})\n",
    "bar_num_2;"
   ]
  },
  {
   "cell_type": "markdown",
   "id": "4fe19647",
   "metadata": {},
   "source": [
    "As you can see - there is no liniar connection between the amout of pictures on an ad to how fast it was sold."
   ]
  },
  {
   "cell_type": "markdown",
   "id": "63c7cd75",
   "metadata": {},
   "source": [
    "#### Bar Plot #3:"
   ]
  },
  {
   "cell_type": "code",
   "execution_count": 21,
   "id": "0e5c5730",
   "metadata": {},
   "outputs": [],
   "source": [
    "sorted_condition = days_mean_condition.copy()\n",
    "sorted_condition = sorted_condition.sort_values(by=['Days until sold mean per Condition'])"
   ]
  },
  {
   "cell_type": "code",
   "execution_count": 22,
   "id": "48b623a6",
   "metadata": {},
   "outputs": [
    {
     "data": {
      "image/png": "[encoded data removed]",
      "text/plain": [
       "<Figure size 1800x720 with 1 Axes>"
      ]
     },
     "metadata": {
      "needs_background": "light"
     },
     "output_type": "display_data"
    }
   ],
   "source": [
    "bar_num_3 = sorted_condition.plot(kind='bar', x='Condition', y='Days until sold mean per Condition', figsize=(25,10), fontsize=15)\n",
    "bar_num_3.set_xlabel('Condition',fontdict={'fontsize':18})\n",
    "bar_num_3;"
   ]
  },
  {
   "cell_type": "markdown",
   "id": "8b4ba7b0",
   "metadata": {},
   "source": [
    "It seems that furniture in new condition tend to sell not as fast as others - even the 'irrelevant' condition, which essentially means no condition stated.\n",
    "This might be related to newer items being more expensive, so let's check 'Price' next."
   ]
  },
  {
   "cell_type": "markdown",
   "id": "28e0c045",
   "metadata": {},
   "source": [
    "We do that by using a line plot to visualize the time period until a unit was sold in correlation to its price."
   ]
  },
  {
   "cell_type": "code",
   "execution_count": 23,
   "id": "1e0d2027",
   "metadata": {},
   "outputs": [],
   "source": [
    "sorted_price = days_mean_price.copy()\n",
    "sorted_price = sorted_price.sort_values(by='Price')"
   ]
  },
  {
   "cell_type": "code",
   "execution_count": 24,
   "id": "694c9b4d",
   "metadata": {},
   "outputs": [
    {
     "data": {
      "image/png": "[encoded data removed]",
      "text/plain": [
       "<Figure size 1440x720 with 1 Axes>"
      ]
     },
     "metadata": {
      "needs_background": "light"
     },
     "output_type": "display_data"
    }
   ],
   "source": [
    "line_plot1 = sorted_price.plot(kind='line', x='Price', y='Days until sold mean per Price', figsize=(20,10), fontsize=10)\n",
    "line_plot1.set_xlabel('Price',fontdict={'fontsize':18})\n",
    "line_plot1;"
   ]
  },
  {
   "cell_type": "markdown",
   "id": "845eaa36",
   "metadata": {},
   "source": [
    "Now let's see if the item's price in regard to the item's type price mean has a correlation to how fast it was sold.\n",
    "First, we find the price mean for each type of furniture and add that column to our dataframe."
   ]
  },
  {
   "cell_type": "code",
   "execution_count": 25,
   "id": "30596662",
   "metadata": {},
   "outputs": [],
   "source": [
    "df_clean, price_mean_type = find_mean(df_clean, sorted(df_clean['Type'].unique()), 'Type', 'Price')"
   ]
  },
  {
   "cell_type": "code",
   "execution_count": 26,
   "id": "3fe5a551",
   "metadata": {},
   "outputs": [
    {
     "data": {
      "text/html": [
       "<div>\n",
       "<style scoped>\n",
       "    .dataframe tbody tr th:only-of-type {\n",
       "        vertical-align: middle;\n",
       "    }\n",
       "\n",
       "    .dataframe tbody tr th {\n",
       "        vertical-align: top;\n",
       "    }\n",
       "\n",
       "    .dataframe thead th {\n",
       "        text-align: right;\n",
       "    }\n",
       "</style>\n",
       "<table border=\"1\" class=\"dataframe\">\n",
       "  <thead>\n",
       "    <tr style=\"text-align: right;\">\n",
       "      <th></th>\n",
       "      <th>Type</th>\n",
       "      <th>Price</th>\n",
       "      <th>Condition</th>\n",
       "      <th>Is description</th>\n",
       "      <th>Picture count</th>\n",
       "      <th>Days until sold</th>\n",
       "      <th>Days until sold mean per Type</th>\n",
       "      <th>Days until sold mean per Picture count</th>\n",
       "      <th>Days until sold mean per Condition</th>\n",
       "      <th>Days until sold mean per Price</th>\n",
       "      <th>Price mean per Type</th>\n",
       "    </tr>\n",
       "  </thead>\n",
       "  <tbody>\n",
       "    <tr>\n",
       "      <th>0</th>\n",
       "      <td>door</td>\n",
       "      <td>3000</td>\n",
       "      <td>new</td>\n",
       "      <td>yes</td>\n",
       "      <td>4</td>\n",
       "      <td>5</td>\n",
       "      <td>3.0</td>\n",
       "      <td>2.0</td>\n",
       "      <td>3.0</td>\n",
       "      <td>3.0</td>\n",
       "      <td>810.0</td>\n",
       "    </tr>\n",
       "    <tr>\n",
       "      <th>13</th>\n",
       "      <td>couch</td>\n",
       "      <td>1100</td>\n",
       "      <td>used like new</td>\n",
       "      <td>yes</td>\n",
       "      <td>8</td>\n",
       "      <td>4</td>\n",
       "      <td>2.0</td>\n",
       "      <td>3.0</td>\n",
       "      <td>2.0</td>\n",
       "      <td>4.0</td>\n",
       "      <td>2819.0</td>\n",
       "    </tr>\n",
       "    <tr>\n",
       "      <th>23</th>\n",
       "      <td>child bedroom</td>\n",
       "      <td>750</td>\n",
       "      <td>used</td>\n",
       "      <td>yes</td>\n",
       "      <td>9</td>\n",
       "      <td>1</td>\n",
       "      <td>3.0</td>\n",
       "      <td>1.0</td>\n",
       "      <td>2.0</td>\n",
       "      <td>3.0</td>\n",
       "      <td>1050.0</td>\n",
       "    </tr>\n",
       "    <tr>\n",
       "      <th>25</th>\n",
       "      <td>bed</td>\n",
       "      <td>400</td>\n",
       "      <td>used</td>\n",
       "      <td>yes</td>\n",
       "      <td>4</td>\n",
       "      <td>1</td>\n",
       "      <td>2.0</td>\n",
       "      <td>2.0</td>\n",
       "      <td>2.0</td>\n",
       "      <td>1.0</td>\n",
       "      <td>1150.0</td>\n",
       "    </tr>\n",
       "    <tr>\n",
       "      <th>29</th>\n",
       "      <td>dining set</td>\n",
       "      <td>4000</td>\n",
       "      <td>used like new</td>\n",
       "      <td>yes</td>\n",
       "      <td>10</td>\n",
       "      <td>1</td>\n",
       "      <td>2.0</td>\n",
       "      <td>2.0</td>\n",
       "      <td>2.0</td>\n",
       "      <td>3.0</td>\n",
       "      <td>1841.0</td>\n",
       "    </tr>\n",
       "  </tbody>\n",
       "</table>\n",
       "</div>"
      ],
      "text/plain": [
       "             Type  Price      Condition Is description  Picture count  \\\n",
       "0            door   3000            new            yes              4   \n",
       "13          couch   1100  used like new            yes              8   \n",
       "23  child bedroom    750           used            yes              9   \n",
       "25            bed    400           used            yes              4   \n",
       "29     dining set   4000  used like new            yes             10   \n",
       "\n",
       "    Days until sold  Days until sold mean per Type  \\\n",
       "0                 5                            3.0   \n",
       "13                4                            2.0   \n",
       "23                1                            3.0   \n",
       "25                1                            2.0   \n",
       "29                1                            2.0   \n",
       "\n",
       "    Days until sold mean per Picture count  \\\n",
       "0                                      2.0   \n",
       "13                                     3.0   \n",
       "23                                     1.0   \n",
       "25                                     2.0   \n",
       "29                                     2.0   \n",
       "\n",
       "    Days until sold mean per Condition  Days until sold mean per Price  \\\n",
       "0                                  3.0                             3.0   \n",
       "13                                 2.0                             4.0   \n",
       "23                                 2.0                             3.0   \n",
       "25                                 2.0                             1.0   \n",
       "29                                 2.0                             3.0   \n",
       "\n",
       "    Price mean per Type  \n",
       "0                 810.0  \n",
       "13               2819.0  \n",
       "23               1050.0  \n",
       "25               1150.0  \n",
       "29               1841.0  "
      ]
     },
     "execution_count": 26,
     "metadata": {},
     "output_type": "execute_result"
    }
   ],
   "source": [
    "df_clean.head()"
   ]
  },
  {
   "cell_type": "markdown",
   "id": "5a5d8ebb",
   "metadata": {},
   "source": [
    "We have the mean for each type, now we add a column to our main dataframe that holds the price of the item compared to its type mean"
   ]
  },
  {
   "cell_type": "code",
   "execution_count": 27,
   "id": "73b2aeaa",
   "metadata": {},
   "outputs": [],
   "source": [
    "price_to_mean_list = []\n",
    "price_to_mean = 0.0\n",
    "\n",
    "for index, row in df_clean.iterrows():\n",
    "    price_to_mean = format((df_clean.at[index, 'Price'] / df_clean.at[index, 'Price mean per Type']), '.2f')\n",
    "    price_to_mean_list.append(price_to_mean)\n",
    "    \n",
    "df_clean['Price compared to type mean'] = price_to_mean_list"
   ]
  },
  {
   "cell_type": "code",
   "execution_count": 28,
   "id": "2d071d5b",
   "metadata": {},
   "outputs": [
    {
     "data": {
      "text/html": [
       "<div>\n",
       "<style scoped>\n",
       "    .dataframe tbody tr th:only-of-type {\n",
       "        vertical-align: middle;\n",
       "    }\n",
       "\n",
       "    .dataframe tbody tr th {\n",
       "        vertical-align: top;\n",
       "    }\n",
       "\n",
       "    .dataframe thead th {\n",
       "        text-align: right;\n",
       "    }\n",
       "</style>\n",
       "<table border=\"1\" class=\"dataframe\">\n",
       "  <thead>\n",
       "    <tr style=\"text-align: right;\">\n",
       "      <th></th>\n",
       "      <th>Type</th>\n",
       "      <th>Price</th>\n",
       "      <th>Condition</th>\n",
       "      <th>Is description</th>\n",
       "      <th>Picture count</th>\n",
       "      <th>Days until sold</th>\n",
       "      <th>Days until sold mean per Type</th>\n",
       "      <th>Days until sold mean per Picture count</th>\n",
       "      <th>Days until sold mean per Condition</th>\n",
       "      <th>Days until sold mean per Price</th>\n",
       "      <th>Price mean per Type</th>\n",
       "      <th>Price compared to type mean</th>\n",
       "    </tr>\n",
       "  </thead>\n",
       "  <tbody>\n",
       "    <tr>\n",
       "      <th>0</th>\n",
       "      <td>door</td>\n",
       "      <td>3000</td>\n",
       "      <td>new</td>\n",
       "      <td>yes</td>\n",
       "      <td>4</td>\n",
       "      <td>5</td>\n",
       "      <td>3.0</td>\n",
       "      <td>2.0</td>\n",
       "      <td>3.0</td>\n",
       "      <td>3.0</td>\n",
       "      <td>810.0</td>\n",
       "      <td>3.70</td>\n",
       "    </tr>\n",
       "    <tr>\n",
       "      <th>13</th>\n",
       "      <td>couch</td>\n",
       "      <td>1100</td>\n",
       "      <td>used like new</td>\n",
       "      <td>yes</td>\n",
       "      <td>8</td>\n",
       "      <td>4</td>\n",
       "      <td>2.0</td>\n",
       "      <td>3.0</td>\n",
       "      <td>2.0</td>\n",
       "      <td>4.0</td>\n",
       "      <td>2819.0</td>\n",
       "      <td>0.39</td>\n",
       "    </tr>\n",
       "    <tr>\n",
       "      <th>23</th>\n",
       "      <td>child bedroom</td>\n",
       "      <td>750</td>\n",
       "      <td>used</td>\n",
       "      <td>yes</td>\n",
       "      <td>9</td>\n",
       "      <td>1</td>\n",
       "      <td>3.0</td>\n",
       "      <td>1.0</td>\n",
       "      <td>2.0</td>\n",
       "      <td>3.0</td>\n",
       "      <td>1050.0</td>\n",
       "      <td>0.71</td>\n",
       "    </tr>\n",
       "    <tr>\n",
       "      <th>25</th>\n",
       "      <td>bed</td>\n",
       "      <td>400</td>\n",
       "      <td>used</td>\n",
       "      <td>yes</td>\n",
       "      <td>4</td>\n",
       "      <td>1</td>\n",
       "      <td>2.0</td>\n",
       "      <td>2.0</td>\n",
       "      <td>2.0</td>\n",
       "      <td>1.0</td>\n",
       "      <td>1150.0</td>\n",
       "      <td>0.35</td>\n",
       "    </tr>\n",
       "    <tr>\n",
       "      <th>29</th>\n",
       "      <td>dining set</td>\n",
       "      <td>4000</td>\n",
       "      <td>used like new</td>\n",
       "      <td>yes</td>\n",
       "      <td>10</td>\n",
       "      <td>1</td>\n",
       "      <td>2.0</td>\n",
       "      <td>2.0</td>\n",
       "      <td>2.0</td>\n",
       "      <td>3.0</td>\n",
       "      <td>1841.0</td>\n",
       "      <td>2.17</td>\n",
       "    </tr>\n",
       "  </tbody>\n",
       "</table>\n",
       "</div>"
      ],
      "text/plain": [
       "             Type  Price      Condition Is description  Picture count  \\\n",
       "0            door   3000            new            yes              4   \n",
       "13          couch   1100  used like new            yes              8   \n",
       "23  child bedroom    750           used            yes              9   \n",
       "25            bed    400           used            yes              4   \n",
       "29     dining set   4000  used like new            yes             10   \n",
       "\n",
       "    Days until sold  Days until sold mean per Type  \\\n",
       "0                 5                            3.0   \n",
       "13                4                            2.0   \n",
       "23                1                            3.0   \n",
       "25                1                            2.0   \n",
       "29                1                            2.0   \n",
       "\n",
       "    Days until sold mean per Picture count  \\\n",
       "0                                      2.0   \n",
       "13                                     3.0   \n",
       "23                                     1.0   \n",
       "25                                     2.0   \n",
       "29                                     2.0   \n",
       "\n",
       "    Days until sold mean per Condition  Days until sold mean per Price  \\\n",
       "0                                  3.0                             3.0   \n",
       "13                                 2.0                             4.0   \n",
       "23                                 2.0                             3.0   \n",
       "25                                 2.0                             1.0   \n",
       "29                                 2.0                             3.0   \n",
       "\n",
       "    Price mean per Type Price compared to type mean  \n",
       "0                 810.0                        3.70  \n",
       "13               2819.0                        0.39  \n",
       "23               1050.0                        0.71  \n",
       "25               1150.0                        0.35  \n",
       "29               1841.0                        2.17  "
      ]
     },
     "execution_count": 28,
     "metadata": {},
     "output_type": "execute_result"
    }
   ],
   "source": [
    "df_clean.head()"
   ]
  },
  {
   "cell_type": "markdown",
   "id": "4da49620",
   "metadata": {},
   "source": [
    "We are done gathering information and calculating - now, we can build another line plot:"
   ]
  },
  {
   "cell_type": "code",
   "execution_count": 29,
   "id": "4105bb01",
   "metadata": {},
   "outputs": [],
   "source": [
    "sorted_price_mean = df_clean.copy()\n",
    "sorted_price_mean = sorted_price_mean.sort_values(by='Price compared to type mean')"
   ]
  },
  {
   "cell_type": "code",
   "execution_count": 30,
   "id": "93a1e43a",
   "metadata": {},
   "outputs": [
    {
     "data": {
      "image/png": "[encoded data removed]",
      "text/plain": [
       "<Figure size 1440x720 with 1 Axes>"
      ]
     },
     "metadata": {
      "needs_background": "light"
     },
     "output_type": "display_data"
    }
   ],
   "source": [
    "line_plot2 = sorted_price_mean.plot(kind='line', x='Price compared to type mean', y='Days until sold', figsize=(20,10), fontsize=10)\n",
    "line_plot2.set_xlabel('Price compared to type price mean',fontdict={'fontsize':18})\n",
    "line_plot2;"
   ]
  },
  {
   "cell_type": "markdown",
   "id": "3a3b0048",
   "metadata": {},
   "source": [
    "### Data preperation for maching learning\n",
    "\n",
    "We have all our data, now we have to change catagorical variables to numerical in order to scale and apply a linear regression model on our data.\n",
    "For our condition map - we associate each catagory with a number between 0 - 4, 0 - being the worst condition & 4 - being the best condition.\n",
    "For our description map - existent description is replaced with the number 1, and non-existent with the number 0.\n",
    "And for our final catatgorical value - type, we change each entry with the amount of items existing of that type in the dataframe."
   ]
  },
  {
   "cell_type": "code",
   "execution_count": 31,
   "id": "8db4a15d",
   "metadata": {},
   "outputs": [],
   "source": [
    "condition_replace_map = {'irrelevant': 0, 'in need of a fix': 1, 'used': 2, 'used like new': 3, 'new': 4}\n",
    "df_clean = df_clean.replace({'Condition': condition_replace_map}, regex=True)\n",
    "description_replace_mape = {'yes': 1, 'no': 0}\n",
    "df_clean = df_clean.replace({'Is description': description_replace_mape}, regex=True)\n",
    "\n",
    "type_value_count = []\n",
    "for index, row in df_clean.iterrows():\n",
    "    type_value_count.append(df_clean['Type'].value_counts()[df_clean.at[index, 'Type']])\n",
    "\n",
    "df_clean['Type'] = type_value_count"
   ]
  },
  {
   "cell_type": "code",
   "execution_count": 32,
   "id": "21fc4ccb",
   "metadata": {},
   "outputs": [
    {
     "data": {
      "text/html": [
       "<div>\n",
       "<style scoped>\n",
       "    .dataframe tbody tr th:only-of-type {\n",
       "        vertical-align: middle;\n",
       "    }\n",
       "\n",
       "    .dataframe tbody tr th {\n",
       "        vertical-align: top;\n",
       "    }\n",
       "\n",
       "    .dataframe thead th {\n",
       "        text-align: right;\n",
       "    }\n",
       "</style>\n",
       "<table border=\"1\" class=\"dataframe\">\n",
       "  <thead>\n",
       "    <tr style=\"text-align: right;\">\n",
       "      <th></th>\n",
       "      <th>Type</th>\n",
       "      <th>Price</th>\n",
       "      <th>Condition</th>\n",
       "      <th>Is description</th>\n",
       "      <th>Picture count</th>\n",
       "      <th>Days until sold</th>\n",
       "      <th>Days until sold mean per Type</th>\n",
       "      <th>Days until sold mean per Picture count</th>\n",
       "      <th>Days until sold mean per Condition</th>\n",
       "      <th>Days until sold mean per Price</th>\n",
       "      <th>Price mean per Type</th>\n",
       "      <th>Price compared to type mean</th>\n",
       "    </tr>\n",
       "  </thead>\n",
       "  <tbody>\n",
       "    <tr>\n",
       "      <th>0</th>\n",
       "      <td>5</td>\n",
       "      <td>3000</td>\n",
       "      <td>4</td>\n",
       "      <td>1</td>\n",
       "      <td>4</td>\n",
       "      <td>5</td>\n",
       "      <td>3.0</td>\n",
       "      <td>2.0</td>\n",
       "      <td>3.0</td>\n",
       "      <td>3.0</td>\n",
       "      <td>810.0</td>\n",
       "      <td>3.70</td>\n",
       "    </tr>\n",
       "    <tr>\n",
       "      <th>13</th>\n",
       "      <td>15</td>\n",
       "      <td>1100</td>\n",
       "      <td>2</td>\n",
       "      <td>1</td>\n",
       "      <td>8</td>\n",
       "      <td>4</td>\n",
       "      <td>2.0</td>\n",
       "      <td>3.0</td>\n",
       "      <td>2.0</td>\n",
       "      <td>4.0</td>\n",
       "      <td>2819.0</td>\n",
       "      <td>0.39</td>\n",
       "    </tr>\n",
       "    <tr>\n",
       "      <th>23</th>\n",
       "      <td>6</td>\n",
       "      <td>750</td>\n",
       "      <td>2</td>\n",
       "      <td>1</td>\n",
       "      <td>9</td>\n",
       "      <td>1</td>\n",
       "      <td>3.0</td>\n",
       "      <td>1.0</td>\n",
       "      <td>2.0</td>\n",
       "      <td>3.0</td>\n",
       "      <td>1050.0</td>\n",
       "      <td>0.71</td>\n",
       "    </tr>\n",
       "    <tr>\n",
       "      <th>25</th>\n",
       "      <td>13</td>\n",
       "      <td>400</td>\n",
       "      <td>2</td>\n",
       "      <td>1</td>\n",
       "      <td>4</td>\n",
       "      <td>1</td>\n",
       "      <td>2.0</td>\n",
       "      <td>2.0</td>\n",
       "      <td>2.0</td>\n",
       "      <td>1.0</td>\n",
       "      <td>1150.0</td>\n",
       "      <td>0.35</td>\n",
       "    </tr>\n",
       "    <tr>\n",
       "      <th>29</th>\n",
       "      <td>6</td>\n",
       "      <td>4000</td>\n",
       "      <td>2</td>\n",
       "      <td>1</td>\n",
       "      <td>10</td>\n",
       "      <td>1</td>\n",
       "      <td>2.0</td>\n",
       "      <td>2.0</td>\n",
       "      <td>2.0</td>\n",
       "      <td>3.0</td>\n",
       "      <td>1841.0</td>\n",
       "      <td>2.17</td>\n",
       "    </tr>\n",
       "    <tr>\n",
       "      <th>...</th>\n",
       "      <td>...</td>\n",
       "      <td>...</td>\n",
       "      <td>...</td>\n",
       "      <td>...</td>\n",
       "      <td>...</td>\n",
       "      <td>...</td>\n",
       "      <td>...</td>\n",
       "      <td>...</td>\n",
       "      <td>...</td>\n",
       "      <td>...</td>\n",
       "      <td>...</td>\n",
       "      <td>...</td>\n",
       "    </tr>\n",
       "    <tr>\n",
       "      <th>749</th>\n",
       "      <td>4</td>\n",
       "      <td>250</td>\n",
       "      <td>0</td>\n",
       "      <td>1</td>\n",
       "      <td>2</td>\n",
       "      <td>2</td>\n",
       "      <td>2.0</td>\n",
       "      <td>2.0</td>\n",
       "      <td>2.0</td>\n",
       "      <td>1.0</td>\n",
       "      <td>1812.0</td>\n",
       "      <td>0.14</td>\n",
       "    </tr>\n",
       "    <tr>\n",
       "      <th>768</th>\n",
       "      <td>5</td>\n",
       "      <td>100</td>\n",
       "      <td>2</td>\n",
       "      <td>1</td>\n",
       "      <td>0</td>\n",
       "      <td>2</td>\n",
       "      <td>3.0</td>\n",
       "      <td>2.0</td>\n",
       "      <td>2.0</td>\n",
       "      <td>2.0</td>\n",
       "      <td>810.0</td>\n",
       "      <td>0.12</td>\n",
       "    </tr>\n",
       "    <tr>\n",
       "      <th>792</th>\n",
       "      <td>2</td>\n",
       "      <td>50</td>\n",
       "      <td>2</td>\n",
       "      <td>1</td>\n",
       "      <td>0</td>\n",
       "      <td>2</td>\n",
       "      <td>1.0</td>\n",
       "      <td>2.0</td>\n",
       "      <td>2.0</td>\n",
       "      <td>1.0</td>\n",
       "      <td>50.0</td>\n",
       "      <td>1.00</td>\n",
       "    </tr>\n",
       "    <tr>\n",
       "      <th>796</th>\n",
       "      <td>1</td>\n",
       "      <td>450</td>\n",
       "      <td>2</td>\n",
       "      <td>1</td>\n",
       "      <td>0</td>\n",
       "      <td>5</td>\n",
       "      <td>5.0</td>\n",
       "      <td>2.0</td>\n",
       "      <td>2.0</td>\n",
       "      <td>5.0</td>\n",
       "      <td>450.0</td>\n",
       "      <td>1.00</td>\n",
       "    </tr>\n",
       "    <tr>\n",
       "      <th>799</th>\n",
       "      <td>13</td>\n",
       "      <td>400</td>\n",
       "      <td>2</td>\n",
       "      <td>1</td>\n",
       "      <td>3</td>\n",
       "      <td>1</td>\n",
       "      <td>2.0</td>\n",
       "      <td>2.0</td>\n",
       "      <td>2.0</td>\n",
       "      <td>1.0</td>\n",
       "      <td>1150.0</td>\n",
       "      <td>0.35</td>\n",
       "    </tr>\n",
       "  </tbody>\n",
       "</table>\n",
       "<p>74 rows × 12 columns</p>\n",
       "</div>"
      ],
      "text/plain": [
       "     Type  Price  Condition  Is description  Picture count  Days until sold  \\\n",
       "0       5   3000          4               1              4                5   \n",
       "13     15   1100          2               1              8                4   \n",
       "23      6    750          2               1              9                1   \n",
       "25     13    400          2               1              4                1   \n",
       "29      6   4000          2               1             10                1   \n",
       "..    ...    ...        ...             ...            ...              ...   \n",
       "749     4    250          0               1              2                2   \n",
       "768     5    100          2               1              0                2   \n",
       "792     2     50          2               1              0                2   \n",
       "796     1    450          2               1              0                5   \n",
       "799    13    400          2               1              3                1   \n",
       "\n",
       "     Days until sold mean per Type  Days until sold mean per Picture count  \\\n",
       "0                              3.0                                     2.0   \n",
       "13                             2.0                                     3.0   \n",
       "23                             3.0                                     1.0   \n",
       "25                             2.0                                     2.0   \n",
       "29                             2.0                                     2.0   \n",
       "..                             ...                                     ...   \n",
       "749                            2.0                                     2.0   \n",
       "768                            3.0                                     2.0   \n",
       "792                            1.0                                     2.0   \n",
       "796                            5.0                                     2.0   \n",
       "799                            2.0                                     2.0   \n",
       "\n",
       "     Days until sold mean per Condition  Days until sold mean per Price  \\\n",
       "0                                   3.0                             3.0   \n",
       "13                                  2.0                             4.0   \n",
       "23                                  2.0                             3.0   \n",
       "25                                  2.0                             1.0   \n",
       "29                                  2.0                             3.0   \n",
       "..                                  ...                             ...   \n",
       "749                                 2.0                             1.0   \n",
       "768                                 2.0                             2.0   \n",
       "792                                 2.0                             1.0   \n",
       "796                                 2.0                             5.0   \n",
       "799                                 2.0                             1.0   \n",
       "\n",
       "     Price mean per Type Price compared to type mean  \n",
       "0                  810.0                        3.70  \n",
       "13                2819.0                        0.39  \n",
       "23                1050.0                        0.71  \n",
       "25                1150.0                        0.35  \n",
       "29                1841.0                        2.17  \n",
       "..                   ...                         ...  \n",
       "749               1812.0                        0.14  \n",
       "768                810.0                        0.12  \n",
       "792                 50.0                        1.00  \n",
       "796                450.0                        1.00  \n",
       "799               1150.0                        0.35  \n",
       "\n",
       "[74 rows x 12 columns]"
      ]
     },
     "execution_count": 32,
     "metadata": {},
     "output_type": "execute_result"
    }
   ],
   "source": [
    "df_clean"
   ]
  },
  {
   "cell_type": "markdown",
   "id": "82f235d7",
   "metadata": {},
   "source": [
    "#### Now it's time to put our data to the test and really see if we can predict  the time period an item will sell?"
   ]
  },
  {
   "cell_type": "markdown",
   "id": "a39fa4fa",
   "metadata": {},
   "source": [
    "We start by splitting our dataframe to train & test:"
   ]
  },
  {
   "cell_type": "code",
   "execution_count": 33,
   "id": "e0aea013",
   "metadata": {},
   "outputs": [],
   "source": [
    "X = df_clean.drop(['Days until sold'], axis=1)\n",
    "y = df_clean['Days until sold']\n",
    "X_train, X_test, y_train, y_test = train_test_split(X, y, test_size=0.3, random_state=41)"
   ]
  },
  {
   "cell_type": "markdown",
   "id": "fe1a01e2",
   "metadata": {},
   "source": [
    "Next we scale our data:"
   ]
  },
  {
   "cell_type": "code",
   "execution_count": 34,
   "id": "753c4633",
   "metadata": {},
   "outputs": [],
   "source": [
    "scaler = MinMaxScaler(feature_range=(0, 1))\n",
    "X_train_scaled = scaler.fit_transform(X_train)\n",
    "X_test_scaled = scaler.transform(X_test)"
   ]
  },
  {
   "cell_type": "markdown",
   "id": "2bb0cbaa",
   "metadata": {},
   "source": [
    "Lastly, we apply a linear regression model on our scaled train set, and use predict on our test set, and evaluate our work."
   ]
  },
  {
   "cell_type": "code",
   "execution_count": 35,
   "id": "9affbe60",
   "metadata": {},
   "outputs": [],
   "source": [
    "trained_model = LinearRegression()\n",
    "trained_model.fit(X_train_scaled, y_train)\n",
    "predicted_vals = trained_model.predict(X_test_scaled)\n",
    "evaluate_value = metrics.r2_score(y_test, predicted_vals)"
   ]
  },
  {
   "cell_type": "markdown",
   "id": "e415dd86",
   "metadata": {},
   "source": [
    "We used R² evaluation method to check how well our model can predict the time period an item will sell:"
   ]
  },
  {
   "cell_type": "code",
   "execution_count": 36,
   "id": "0ee5a54a",
   "metadata": {},
   "outputs": [
    {
     "data": {
      "text/plain": [
       "0.5556478736200203"
      ]
     },
     "execution_count": 36,
     "metadata": {},
     "output_type": "execute_result"
    }
   ],
   "source": [
    "evaluate_value"
   ]
  },
  {
   "cell_type": "markdown",
   "id": "7bd58d68",
   "metadata": {},
   "source": [
    "Since R² > 0.5, it seems the efficancy of our model is quite good! Hurray!"
   ]
  }
 ],
 "metadata": {
  "kernelspec": {
   "display_name": "Python 3.9 (XPython)",
   "language": "python",
   "name": "xpython"
  },
  "language_info": {
   "file_extension": ".py",
   "mimetype": "text/x-python",
   "name": "python",
   "version": "3.9.11"
  }
 },
 "nbformat": 4,
 "nbformat_minor": 5
}
